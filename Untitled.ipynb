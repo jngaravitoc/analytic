{
 "cells": [
  {
   "cell_type": "code",
   "execution_count": 1,
   "metadata": {
    "collapsed": false
   },
   "outputs": [
    {
     "name": "stdout",
     "output_type": "stream",
     "text": [
      "Populating the interactive namespace from numpy and matplotlib\n"
     ]
    },
    {
     "name": "stderr",
     "output_type": "stream",
     "text": [
      "/home/jngaravito57/Documents/codes/ipython/IPython/kernel/__init__.py:10: UserWarning: The `IPython.kernel` package has been deprecated. You should import from ipython_kernel or jupyter_client instead.\n",
      "  warn(\"The `IPython.kernel` package has been deprecated. \"\n"
     ]
    }
   ],
   "source": [
    "%pylab inline\n",
    "from scipy.integrate import quad"
   ]
  },
  {
   "cell_type": "markdown",
   "metadata": {
    "slideshow": {
     "slide_type": "slide"
    }
   },
   "source": [
    "## Making the integral "
   ]
  },
  {
   "cell_type": "code",
   "execution_count": 2,
   "metadata": {
    "collapsed": true,
    "slideshow": {
     "slide_type": "subslide"
    }
   },
   "outputs": [],
   "source": [
    "def model(x):\n",
    "    b = 0.7\n",
    "    return x**2 * (1+x)**(27*b/2.*x)"
   ]
  },
  {
   "cell_type": "code",
   "execution_count": 3,
   "metadata": {
    "collapsed": false,
    "slideshow": {
     "slide_type": "subslide"
    }
   },
   "outputs": [],
   "source": [
    "def integral(c):\n",
    "    x = linspace(0, c, 100)\n",
    "    integral_scipy,err = quad(model, 0, c)\n",
    "    return integral_scipy\n",
    "integral(2)\n",
    "\n",
    "def rho_g0(c):\n",
    "    f_gas = 1.\n",
    "    Omega_m = 0.32\n",
    "    Omega_b = 0.02230/(0.67**2)\n",
    "    H_0 = 2.19E-18\n",
    "    G = 6.67E-8\n",
    "    rho_c = 3*H_0**2 / (8.*np.pi*G)\n",
    "    c = 3.75\n",
    "    d_c = 200./3. * (c**3/(log(1+c) - c/(1+c)))\n",
    "    return (f_gas * d_c * rho_c * Omega_b / Omega_m ) * e ** (27. * b / 2.) * (log(1+c) - c/(1+c))  /  integral(c)"
   ]
  },
  {
   "cell_type": "markdown",
   "metadata": {
    "slideshow": {
     "slide_type": "slide"
    }
   },
   "source": [
    "# Constants "
   ]
  },
  {
   "cell_type": "code",
   "execution_count": 4,
   "metadata": {
    "collapsed": false,
    "slideshow": {
     "slide_type": "subslide"
    }
   },
   "outputs": [
    {
     "data": {
      "text/plain": [
       "0.9450000000000001"
      ]
     },
     "execution_count": 4,
     "metadata": {},
     "output_type": "execute_result"
    }
   ],
   "source": [
    "b = 0.7\n",
    "A = -0.178*b + 0.982\n",
    "beta = 0.9*b\n",
    "r_vir = 107\n",
    "\n",
    "3*beta/2.\n"
   ]
  },
  {
   "cell_type": "code",
   "execution_count": 5,
   "metadata": {
    "collapsed": true,
    "slideshow": {
     "slide_type": "subslide"
    }
   },
   "outputs": [],
   "source": [
    "def rho(r):\n",
    "    c = 3.75\n",
    "    r_s = r_vir/c\n",
    "    return A*rho_g0(c)/(1 + ((r/r_s)*(1/0.22))**2)**(3*beta/2.)"
   ]
  },
  {
   "cell_type": "markdown",
   "metadata": {
    "slideshow": {
     "slide_type": "slide"
    }
   },
   "source": [
    "#Mark's data"
   ]
  },
  {
   "cell_type": "code",
   "execution_count": 6,
   "metadata": {
    "collapsed": false,
    "slideshow": {
     "slide_type": "subslide"
    }
   },
   "outputs": [],
   "source": [
    "Mdensity = loadtxt(\"dim.out\")\n",
    "Rho = rho(Mdensity[:,0])\n",
    "#min(Mdensity[:,0])"
   ]
  },
  {
   "cell_type": "code",
   "execution_count": 30,
   "metadata": {
    "collapsed": false,
    "slideshow": {
     "slide_type": "subslide"
    }
   },
   "outputs": [
    {
     "data": {
      "image/png": "[encoded data removed]",
      "text/plain": [
       "<matplotlib.figure.Figure at 0x7fc115d9df50>"
      ]
     },
     "metadata": {},
     "output_type": "display_data"
    }
   ],
   "source": [
    "plot(Mdensity[:,0], Mdensity[:,1])\n",
    "plot(Mdensity[:,0], Rho*2E21) # rescaling\n",
    "ylabel(\"Density (g/cc)\")\n",
    "xlabel(\"r (kpc)\")\n",
    "#savefig(\"normalization.png\")"
   ]
  },
  {
   "cell_type": "code",
   "execution_count": 8,
   "metadata": {
    "collapsed": false
   },
   "outputs": [
    {
     "name": "stdout",
     "output_type": "stream",
     "text": [
      "2.01e-14\n"
     ]
    }
   ],
   "source": [
    "H_0 = 67000*3E-19\n",
    "print H_0\n"
   ]
  },
  {
   "cell_type": "code",
   "execution_count": 9,
   "metadata": {
    "collapsed": false
   },
   "outputs": [
    {
     "data": {
      "text/plain": [
       "0.3333333333333333"
      ]
     },
     "execution_count": 9,
     "metadata": {},
     "output_type": "execute_result"
    }
   ],
   "source": [
    "1/3.\n"
   ]
  },
  {
   "cell_type": "code",
   "execution_count": 10,
   "metadata": {
    "collapsed": false
   },
   "outputs": [
    {
     "name": "stdout",
     "output_type": "stream",
     "text": [
      "8.58309245761e-30\n"
     ]
    }
   ],
   "source": [
    "H_0 = 2.19E-18\n",
    "G = 6.67E-8\n",
    "rho_c = 3*H_0**2 / (8.*np.pi*G)\n",
    "\n",
    "print rho_c"
   ]
  },
  {
   "cell_type": "code",
   "execution_count": null,
   "metadata": {
    "collapsed": true
   },
   "outputs": [],
   "source": []
  },
  {
   "cell_type": "code",
   "execution_count": null,
   "metadata": {
    "collapsed": true
   },
   "outputs": [],
   "source": []
  }
 ],
 "metadata": {
  "celltoolbar": "Slideshow",
  "kernelspec": {
   "display_name": "Python 2",
   "language": "python",
   "name": "python2"
  },
  "language_info": {
   "codemirror_mode": {
    "name": "ipython",
    "version": 2
   },
   "file_extension": ".py",
   "mimetype": "text/x-python",
   "name": "python",
   "nbconvert_exporter": "python",
   "pygments_lexer": "ipython2",
   "version": "2.7.8"
  }
 },
 "nbformat": 4,
 "nbformat_minor": 0
}
