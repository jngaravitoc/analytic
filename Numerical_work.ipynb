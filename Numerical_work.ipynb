{
 "cells": [
  {
   "cell_type": "code",
   "execution_count": 1,
   "metadata": {
    "collapsed": false
   },
   "outputs": [
    {
     "name": "stdout",
     "output_type": "stream",
     "text": [
      "Populating the interactive namespace from numpy and matplotlib\n"
     ]
    }
   ],
   "source": [
    "%pylab inline\n",
    "from scipy.integrate import quad"
   ]
  },
  {
   "cell_type": "markdown",
   "metadata": {
    "slideshow": {
     "slide_type": "slide"
    }
   },
   "source": [
    "Computation of the gas density profiles. This computations is divided in two main approaches.\n",
    "In the first one we compute $\\rho_g(r)$ folowing Makino et al 98. In that work they derive \n",
    "An expresion for the gas density from a NFW profile Eq.1. They also found function that fits \n",
    "very well this profile eq.2"
   ]
  },
  {
   "cell_type": "markdown",
   "metadata": {
    "collapsed": true,
    "slideshow": {
     "slide_type": "fragment"
    }
   },
   "source": [
    "$\\rho_g(r) = \\rho_{g0} e ^{-27b/2}\\left(1 + \\dfrac{r}{r_s}\\right)^{27b/(2r/r_s)}$ (1)\n",
    "\n",
    "\n",
    "$\\rho_{g0} = \\dfrac{f_{gas}\\Omega_b \\rho_{c0}\\delta_c}{\\Omega_0} e ^{27b/2} \\left[ ln(1+c) - \\dfrac{c}{1+c} \\right] \\times \\left[ \\int_{0}^{c} x^2 (1+x)^{27b/2x} dx\\right]^{-1} $\n",
    "\n",
    "$\\rho_{g}(r) = \\dfrac{\\rho_{g0 A(b)}}{[1+(r/r_{c,eff})^2]^{3\\beta_{eff}/2}}$ (2)\n"
   ]
  },
  {
   "cell_type": "markdown",
   "metadata": {
    "slideshow": {
     "slide_type": "slide"
    }
   },
   "source": [
    "In order to compute this profiles we choose all in units of grams and cm.\n",
    "\n",
    "$z = 0$\n",
    "\n",
    "$b = 0.7$\n",
    "\n",
    "$c = 3.75$\n",
    "\n",
    "$f_{gas} = 1$\n",
    "\n",
    "$\\Omega_0 = 0.32$\n",
    "\n",
    "$\\Omega_b = 0.04967$\n",
    "\n",
    "$G = 6.67E-8$ [$cm^3/(gs^2)$]\n",
    "\n",
    "$H_0 = 2.19E-18$ [1/s]\n",
    "\n",
    "$r_{vir} = 118 kpc$\n",
    "\n",
    "$\\beta = 0.9b$\n",
    "\n",
    "\n",
    "$\\delta_c = \\dfrac{200}{3}(\\dfrac{c^3}{(log(1+c) - c/(1+c))})$"
   ]
  },
  {
   "cell_type": "markdown",
   "metadata": {
    "slideshow": {
     "slide_type": "slide"
    }
   },
   "source": [
    "##  Code to make the integral of $\\rho_{g0}$"
   ]
  },
  {
   "cell_type": "code",
   "execution_count": 23,
   "metadata": {
    "collapsed": false,
    "slideshow": {
     "slide_type": "slide"
    }
   },
   "outputs": [
    {
     "name": "stdout",
     "output_type": "stream",
     "text": [
      "The value of integral at c = 3.75:  5.942437933e+23\n"
     ]
    }
   ],
   "source": [
    "def model(x):\n",
    "    b = 0.7\n",
    "    return x**2 * (1+x)**(27*b/2.*x)\n",
    "\n",
    "def integral(c):\n",
    "    x = linspace(0, c, 100)\n",
    "    integral_scipy,err = quad(model, 0, c)\n",
    "    return integral_scipy\n",
    "print \"The value of integral at c = 3.75: \", integral(3.75)\n",
    "\n",
    "def rho_g0(c):\n",
    "    f_gas = 1.\n",
    "    Omega_m = 0.32\n",
    "    Omega_b = 0.02230/(0.67**2)\n",
    "    H_0 = 2.19E-18 #1/s\n",
    "    G = 6.67E-8 # \n",
    "    rho_c = 3*H_0**2 / (8.*np.pi*G)\n",
    "    c = 3.75\n",
    "    d_c = 200./3. * (c**3/(log(1+c) - c/(1+c)))\n",
    "    return ( ( (f_gas * d_c * rho_c * Omega_b) / Omega_m ) * e ** (27. * b / 2.) * (log(1+c) - c/(1+c)) )  /  integral(c)\n"
   ]
  },
  {
   "cell_type": "markdown",
   "metadata": {
    "slideshow": {
     "slide_type": "slide"
    }
   },
   "source": [
    "## Computing the density profiles (Eq.1 & Eq.2)"
   ]
  },
  {
   "cell_type": "code",
   "execution_count": 20,
   "metadata": {
    "collapsed": true,
    "slideshow": {
     "slide_type": "fragment"
    }
   },
   "outputs": [],
   "source": [
    "def rho_aprox(r):\n",
    "    c = 3.75\n",
    "    r_s = r_vir/c\n",
    "    return A*rho_g0(c)/(1 + ((r/r_s)*(1/0.22))**2)**(3*beta/2.)\n",
    "\n",
    "def rho(r):\n",
    "    c = 3.75\n",
    "    r_s = r_vir/c\n",
    "    return rho_g0(c) * e**(-27*b/2.) * (1 + (r/r_s))**(27*b/(2*r/r_s))"
   ]
  },
  {
   "cell_type": "code",
   "execution_count": 27,
   "metadata": {
    "collapsed": false,
    "slideshow": {
     "slide_type": "slide"
    }
   },
   "outputs": [
    {
     "data": {
      "text/plain": [
       "<matplotlib.text.Text at 0x7fd3cbb0c190>"
      ]
     },
     "execution_count": 27,
     "metadata": {},
     "output_type": "execute_result"
    },
    {
     "data": {
      "image/png": "[encoded data removed]",
      "text/plain": [
       "<matplotlib.figure.Figure at 0x7fd3cb8fb350>"
      ]
     },
     "metadata": {},
     "output_type": "display_data"
    }
   ],
   "source": [
    "#plot(Mdensity[:,0], Mdensity[:,1], ls='--', lw=3, c='r')# Mark's Data\n",
    "plot(Mdensity[:,0], Rho, c='k', alpha = 0.6, lw=3, label=\"Eq1\") # rescaling\n",
    "plot(Mdensity[:,0], Rho_aprox, c='b', alpha=0.6, lw=3, label = \"Eq2\")\n",
    "legend()\n",
    "ylabel(\"$Density(g/cc)$\", fontsize=20)\n",
    "xlabel(\"$r(kpc)$\", fontsize=20)\n",
    "#savefig(\"normalization.png\")"
   ]
  },
  {
   "cell_type": "markdown",
   "metadata": {
    "slideshow": {
     "slide_type": "-"
    }
   },
   "source": [
    "# Constants "
   ]
  },
  {
   "cell_type": "code",
   "execution_count": 19,
   "metadata": {
    "collapsed": false,
    "slideshow": {
     "slide_type": "-"
    }
   },
   "outputs": [],
   "source": [
    "b = 0.7\n",
    "A = -0.178*b + 0.982\n",
    "beta = 0.9*b\n",
    "r_vir = 118 #kpc This comes from a Mass of 1E12 M_sun and at z=2"
   ]
  },
  {
   "cell_type": "markdown",
   "metadata": {
    "slideshow": {
     "slide_type": "slide"
    }
   },
   "source": [
    "In this second part, we compute the desnity profile Eq.3 derived from x-ray observations \n",
    "of galaxy clusters by Makino & Asano 98. from this profile we derive the gas density profile\n",
    "Eq.4. To this aim we choose the following contants:\n",
    "\n",
    "$K_B = 1.38E-30$ [$cm^2g/s^2K$]\n",
    " \n",
    "$\\mu_n = 0.59$\n",
    "\n",
    "$m_p = 1.67E-30$ g\n",
    "\n",
    "$T_{vir} = 82.36K$ this is taken from Trenti & Stiavelli 09 for a M = 1E12 Msun and z=0"
   ]
  },
  {
   "cell_type": "markdown",
   "metadata": {
    "slideshow": {
     "slide_type": "slide"
    }
   },
   "source": [
    "$\\rho(r) = \\dfrac{3\\beta kT}{4\\pi G \\mu_n m_p r_c^2} \\dfrac{3 + (r/r_c)^2}{[1 + (r/r_c)^2]^2}$  (3)\n",
    "\n",
    "$\\rho_{g}(r) = \\dfrac{3 \\beta KTf_{gas}\\Omega_b }{4\\pi \\Omega_0 G \\mu_n m_p} \\dfrac{3 + (r/r_s)^2}{(1 + (r/r_s)^2)^2}$ (4)"
   ]
  },
  {
   "cell_type": "markdown",
   "metadata": {
    "slideshow": {
     "slide_type": "slide"
    }
   },
   "source": [
    "# The code:"
   ]
  },
  {
   "cell_type": "code",
   "execution_count": 11,
   "metadata": {
    "collapsed": true,
    "slideshow": {
     "slide_type": "subslide"
    }
   },
   "outputs": [],
   "source": [
    "def rho_MA(r, c): # Makino & Asano density profile\n",
    "    K = 1.38E-30 #cm^2g/s^2K\n",
    "    mu_n = 0.59\n",
    "    m_p = 1.672621777E-30#g\n",
    "    r_s = r_vir/c\n",
    "    G = 6.67E-8 # \n",
    "    T_vir =  82.36 #K, this is taken from Trenti & Stiavelli 09 for a M = 1E12 Msun and z=0\n",
    "    return 3*beta*K*T_vir /(4*np.pi*G*mu_n*m_p) * (3 + (r/r_s)**2) / (1 + (r/r_s)**2)**2\n",
    "\n",
    "def rho_MA_g(r, c): # Makino & Asano density profile\n",
    "    f_gas = 1.\n",
    "    Omega_m = 0.32\n",
    "    Omega_b = 0.02230/(0.67**2)\n",
    "    K = 1.38E-30 #cm^2g/s^2K\n",
    "    mu_n = 0.59\n",
    "    m_p = 1.672621777E-30#g\n",
    "    r_s = r_vir/c\n",
    "    G = 6.67E-8 # \n",
    "    T_vir =  82.36 #K, this is taken from Trenti & Stiavelli 09 for a M = 1E12 Msun and z=0\n",
    "    return 3*beta*K*T_vir*f_gas*Omega_b /(4*np.pi*G*mu_n*m_p*Omega_m) * (3 + (r/r_s)**2) / (1 + (r/r_s)**2)**2\n",
    "    "
   ]
  },
  {
   "cell_type": "code",
   "execution_count": 14,
   "metadata": {
    "collapsed": false,
    "slideshow": {
     "slide_type": "slide"
    }
   },
   "outputs": [
    {
     "data": {
      "text/plain": [
       "<matplotlib.text.Text at 0x7fd3cbc601d0>"
      ]
     },
     "execution_count": 14,
     "metadata": {},
     "output_type": "execute_result"
    },
    {
     "data": {
      "image/png": "[encoded data removed]",
      "text/plain": [
       "<matplotlib.figure.Figure at 0x7fd3cc03eb10>"
      ]
     },
     "metadata": {},
     "output_type": "display_data"
    }
   ],
   "source": [
    "plot(Mdensity[:,0], Rho_MA, c='r', alpha=0.6, lw=3)\n",
    "plot(Mdensity[:,0], Rho_MA_g, c='b', alpha=0.6, lw=3)\n",
    "\n",
    "ylabel(\"$Density(g/cc)$\", fontsize=20)\n",
    "xlabel(\"$r(kpc)$\", fontsize=20)\n",
    "#savefig(\"normalization.png\")"
   ]
  },
  {
   "cell_type": "markdown",
   "metadata": {
    "slideshow": {
     "slide_type": "slide"
    }
   },
   "source": [
    "#Mark's data"
   ]
  },
  {
   "cell_type": "code",
   "execution_count": 12,
   "metadata": {
    "collapsed": false,
    "slideshow": {
     "slide_type": "-"
    }
   },
   "outputs": [],
   "source": [
    "Mdensity = loadtxt(\"dim.out\")\n",
    "Rho = rho(Mdensity[:,0])\n",
    "Rho_aprox = rho_aprox(Mdensity[:,0])\n",
    "Rho_MA = rho_MA(Mdensity[:,0], 3.75)\n",
    "Rho_MA_g = rho_MA_g(Mdensity[:,0], 3.75)\n",
    "\n",
    "#min(Mdensity[:,0])"
   ]
  },
  {
   "cell_type": "code",
   "execution_count": null,
   "metadata": {
    "collapsed": true
   },
   "outputs": [],
   "source": []
  },
  {
   "cell_type": "code",
   "execution_count": null,
   "metadata": {
    "collapsed": true
   },
   "outputs": [],
   "source": []
  }
 ],
 "metadata": {
  "celltoolbar": "Slideshow",
  "kernelspec": {
   "display_name": "Python 2",
   "language": "python",
   "name": "python2"
  },
  "language_info": {
   "codemirror_mode": {
    "name": "ipython",
    "version": 2
   },
   "file_extension": ".py",
   "mimetype": "text/x-python",
   "name": "python",
   "nbconvert_exporter": "python",
   "pygments_lexer": "ipython2",
   "version": "2.7.6"
  }
 },
 "nbformat": 4,
 "nbformat_minor": 0
}
