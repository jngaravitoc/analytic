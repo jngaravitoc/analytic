{
 "cells": [
  {
   "cell_type": "code",
   "execution_count": 2,
   "metadata": {
    "collapsed": false
   },
   "outputs": [
    {
     "name": "stdout",
     "output_type": "stream",
     "text": [
      "Populating the interactive namespace from numpy and matplotlib\n"
     ]
    }
   ],
   "source": [
    "%pylab inline\n",
    "from scipy.integrate import quad"
   ]
  },
  {
   "cell_type": "markdown",
   "metadata": {
    "slideshow": {
     "slide_type": "slide"
    }
   },
   "source": [
    "Computation of the gas density profiles. This computations is divided in two main approaches.\n",
    "In the first one we compute $\\rho_g(r)$ folowing Makino et al 98. In that work they derive \n",
    "An expresion for the gas density from a NFW profile Eq.1. They also found function that fits \n",
    "very well this profile eq.2"
   ]
  },
  {
   "cell_type": "markdown",
   "metadata": {
    "collapsed": true,
    "slideshow": {
     "slide_type": "fragment"
    }
   },
   "source": [
    "$\\rho_g(r) = \\rho_{g0} e ^{-27b/2}\\left(1 + \\dfrac{r}{r_s}\\right)^{27b/(2r/r_s)}$ (1)\n",
    "\n",
    "\n",
    "$\\rho_{g0} = \\dfrac{f_{gas}\\Omega_b \\rho_{c0}\\delta_c}{\\Omega_0} e ^{27b/2} \\left[ ln(1+c) - \\dfrac{c}{1+c} \\right] \\times \\left[ \\int_{0}^{c} x^2 (1+x)^{27b/2x} dx\\right]^{-1} $\n",
    "\n",
    "$\\rho_{g}(r) = \\dfrac{\\rho_{g0 A(b)}}{[1+(r/r_{c,eff})^2]^{3\\beta_{eff}/2}}$ (2)\n"
   ]
  },
  {
   "cell_type": "markdown",
   "metadata": {
    "slideshow": {
     "slide_type": "slide"
    }
   },
   "source": [
    "In order to compute this profiles we choose all in units of grams and cm.\n",
    "\n",
    "$z = 0$\n",
    "\n",
    "$b = 0.7$\n",
    "\n",
    "$c = 3.75$\n",
    "\n",
    "$f_{gas} = 1$\n",
    "\n",
    "$\\Omega_0 = 0.32$\n",
    "\n",
    "$\\Omega_b = 0.04967$\n",
    "\n",
    "$G = 6.67E-8$ [$cm^3/(gs^2)$]\n",
    "\n",
    "$H_0 = 2.19E-18$ [1/s]\n",
    "\n",
    "$r_{vir} = 118 kpc$\n",
    "\n",
    "$\\beta = 0.9b$\n",
    "\n",
    "\n",
    "$\\delta_c = \\dfrac{200}{3}(\\dfrac{c^3}{(log(1+c) - c/(1+c))})$"
   ]
  },
  {
   "cell_type": "markdown",
   "metadata": {
    "slideshow": {
     "slide_type": "slide"
    }
   },
   "source": [
    "##  Code to make the integral of $\\rho_{g0}$"
   ]
  },
  {
   "cell_type": "code",
   "execution_count": 3,
   "metadata": {
    "collapsed": false,
    "slideshow": {
     "slide_type": "slide"
    }
   },
   "outputs": [
    {
     "name": "stdout",
     "output_type": "stream",
     "text": [
      "The value of integral at c = 3.75:  2419.94935626\n"
     ]
    },
    {
     "data": {
      "text/plain": [
       "1.3753680168150579e-25"
      ]
     },
     "execution_count": 3,
     "metadata": {},
     "output_type": "execute_result"
    }
   ],
   "source": [
    "def model(x):\n",
    "    b = 0.7\n",
    "    return x**2 * ( (1+x)**(27*b/(2.*x)) )\n",
    "\n",
    "def integral(c):\n",
    "    integral_scipy,err = quad(model, 0, c)\n",
    "    return integral_scipy\n",
    "print \"The value of integral at c = 3.75: \", integral(3.75)\n",
    "\n",
    "def rho_g0(c):\n",
    "    b = 0.7\n",
    "    f_gas = 1.\n",
    "    Omega_m = 0.32\n",
    "    Omega_b = 0.022/(0.67**2)\n",
    "    H_0 = 2.19E-18 #1/s\n",
    "    G = 6.67E-8 # \n",
    "    rho_c = 3*H_0**2 / (8.*np.pi*G)\n",
    "    c = 3.75\n",
    "    zform = 2.\n",
    "    d_c = 3000.0 * Omega_m * (1 + zform)**3\n",
    "    #d_c = 200/3. * (c**3 / (log(1 + c) - c/(1+c)))\n",
    "    return ( ( (f_gas * d_c * rho_c * Omega_b) / Omega_m ) * exp(27. * b / 2.) * (log(1+c) - c/(1+c)) )  /  integral(c)\n",
    "\n",
    "rho_g0(3.75)"
   ]
  },
  {
   "cell_type": "markdown",
   "metadata": {
    "slideshow": {
     "slide_type": "slide"
    }
   },
   "source": [
    "## Computing the density profiles (Eq.1 & Eq.2)"
   ]
  },
  {
   "cell_type": "code",
   "execution_count": 4,
   "metadata": {
    "collapsed": true,
    "slideshow": {
     "slide_type": "fragment"
    }
   },
   "outputs": [],
   "source": [
    "r_vir  = 106\n",
    "b = 0.7\n",
    "A = -0.178*b + 0.982\n",
    "beta = 0.9*b \n",
    "def rho_aprox(r):\n",
    "    c = 3.75\n",
    "    r_s = r_vir/c\n",
    "    return A*rho_g0(c)/(1 + ((r/r_s)*(1/0.22))**2)**(3*beta/2.)\n",
    "\n",
    "def rho(r):\n",
    "    c = 3.75\n",
    "    r_s = r_vir/c\n",
    "    return rho_g0(c) * e**(-27*b/2.) * (1 + (r/r_s))**(27*b/(2*r/r_s))"
   ]
  },
  {
   "cell_type": "code",
   "execution_count": 5,
   "metadata": {
    "collapsed": false
   },
   "outputs": [],
   "source": [
    "Mdensity = loadtxt(\"../../../Dropbox/LyAlpha_absorbers/code/dim.out\")\n",
    "\n",
    "Rho = rho(Mdensity[:,0])\n",
    "Rho_aprox =  rho_aprox(Mdensity[:,0])"
   ]
  },
  {
   "cell_type": "code",
   "execution_count": 6,
   "metadata": {
    "collapsed": false,
    "slideshow": {
     "slide_type": "slide"
    }
   },
   "outputs": [
    {
     "data": {
      "image/png": "[encoded data removed]",
      "text/plain": [
       "<matplotlib.figure.Figure at 0x7ff2ff038110>"
      ]
     },
     "metadata": {},
     "output_type": "display_data"
    }
   ],
   "source": [
    "plot(Mdensity[:,0], Mdensity[:,1], ls='--', lw=3, c='r', label=\"Mark\")# Mark's Data\n",
    "plot(Mdensity[:,0], Rho, c='k', alpha = 0.6, lw=3, label=\"Eq1\") # rescaling\n",
    "plot(Mdensity[:,0], Rho_aprox, c='b', alpha=0.6, lw=3, label = \"Eq2\")\n",
    "legend()\n",
    "ylabel(\"$Density(g/cc)$\", fontsize=20)\n",
    "xlabel(\"$r(kpc)$\", fontsize=20)\n",
    "savefig(\"density_profiles.png\")"
   ]
  },
  {
   "cell_type": "code",
   "execution_count": 115,
   "metadata": {
    "collapsed": false
   },
   "outputs": [],
   "source": [
    "def column_density(r):\n",
    "    r_vir  = 106\n",
    "    b = 0.7\n",
    "    c = 3.75\n",
    "    r_s = r_vir/c\n",
    "    B = 0.5\n",
    "    return rho_g0(c) * e**(-27*b/2.) * (1 + (r/r_s))**(27*b/(2*r/r_s)) * r / sqrt(r**2 - B**2)"
   ]
  },
  {
   "cell_type": "code",
   "execution_count": 119,
   "metadata": {
    "collapsed": false
   },
   "outputs": [],
   "source": [
    "def column(r):\n",
    "    integral_scipy, err = quad(column_density, 0, r)\n",
    "    return integral_scipy"
   ]
  }
 ],
 "metadata": {
  "celltoolbar": "Slideshow",
  "kernelspec": {
   "display_name": "Python 2",
   "language": "python",
   "name": "python2"
  },
  "language_info": {
   "codemirror_mode": {
    "name": "ipython",
    "version": 2
   },
   "file_extension": ".py",
   "mimetype": "text/x-python",
   "name": "python",
   "nbconvert_exporter": "python",
   "pygments_lexer": "ipython2",
   "version": "2.7.6"
  }
 },
 "nbformat": 4,
 "nbformat_minor": 0
}
