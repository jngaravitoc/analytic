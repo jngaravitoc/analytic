{
 "cells": [
  {
   "cell_type": "code",
   "execution_count": 79,
   "metadata": {
    "collapsed": false
   },
   "outputs": [
    {
     "name": "stdout",
     "output_type": "stream",
     "text": [
      "Populating the interactive namespace from numpy and matplotlib\n"
     ]
    },
    {
     "name": "stderr",
     "output_type": "stream",
     "text": [
      "WARNING: pylab import has clobbered these variables: ['f', 'beta']\n",
      "`%matplotlib` prevents importing * from pylab and numpy\n"
     ]
    }
   ],
   "source": [
    "%pylab inline\n",
    "from astropy import constants"
   ]
  },
  {
   "cell_type": "code",
   "execution_count": 59,
   "metadata": {
    "collapsed": false
   },
   "outputs": [],
   "source": [
    "font = {'size':25, 'family':'serif'}\n",
    "matplotlib.rc('font', **font)"
   ]
  },
  {
   "cell_type": "markdown",
   "metadata": {},
   "source": [
    "# Defining constants"
   ]
  },
  {
   "cell_type": "code",
   "execution_count": 191,
   "metadata": {
    "collapsed": false
   },
   "outputs": [
    {
     "name": "stdout",
     "output_type": "stream",
     "text": [
      "2.19530389069e-18 6.67384e-11 1.3806488e-23 8.61975453599e-27 1.672621777e-27 3.08567758147e+22\n"
     ]
    }
   ],
   "source": [
    "Mpc = constants.pc.value*1000000 #m\n",
    "Kpc = Mpc/1000.0\n",
    "G = constants.G\n",
    "G = G.value # m3/kgs2\n",
    "K = constants.k_B\n",
    "K = K.value # J/K\n",
    "M_s = constants.M_sun.value #kg\n",
    "mu_m = 0.59 # from makino et al.\n",
    "m_p = 1.672621777e-27# proton mass kg\n",
    "Omega_m = 0.3089\n",
    "Omega_b = 0.02230/0.7**2\n",
    "Omega_l = 0.6911\n",
    "Omega_k = 1 - 1.0023\n",
    "H_0 = 67740 # m/sMpc\n",
    "H_0m = H_0/Mpc\n",
    "#H = H_0*sqrt(Omega_r + Omega_m + Omega_k + Omega_l)\n",
    "p_cr = 3*H_0m**2/(8*pi*G) # kg/m3\n",
    "beta = 0.4 # Makino page 8\n",
    "print H_0m, G, K, p_cr, m_p, Mpc"
   ]
  },
  {
   "cell_type": "markdown",
   "metadata": {},
   "source": [
    "$\\alpha = \\dfrac{9 \\beta k_B \\Omega_m}{800 \\pi G \\mu_n m_p \\Omega_B \\rho_{c}} = 2.3644\\times 10^{38}[m^2/K]\n",
    "$"
   ]
  },
  {
   "cell_type": "markdown",
   "metadata": {},
   "source": [
    "# Computing $\\alpha$ and $\\alpha'$ values"
   ]
  },
  {
   "cell_type": "code",
   "execution_count": 161,
   "metadata": {
    "collapsed": false
   },
   "outputs": [
    {
     "name": "stdout",
     "output_type": "stream",
     "text": [
      "a =  2.36447397595e+38\n",
      "a'=  1.36361502394e+37\n"
     ]
    }
   ],
   "source": [
    "a = 9*beta*K*Omega_m/(200.0*p_cr*4.0*pi*G*mu_m*m_p*Omega_b)\n",
    "a_prime = a * 7.0*2554.0/(31.0*(1000000)**(2/3.))\n",
    "print \"a = \",  a\n",
    "print \"a'= \", a_prime"
   ]
  },
  {
   "cell_type": "markdown",
   "metadata": {},
   "source": [
    "# Defining functions to compute $c$ and $r_c$"
   ]
  },
  {
   "cell_type": "code",
   "execution_count": 206,
   "metadata": {
    "collapsed": false
   },
   "outputs": [],
   "source": [
    "def c(M, a, rvir):\n",
    "    C = 1 / (sqrt((a*M**(2/3.)/rvir**2) - 1))\n",
    "    return C\n",
    "def r_c(a, M, r_vir):\n",
    "    r_c = sqrt(a*M**(2/3.) - r_vir**2)\n",
    "    return r_c"
   ]
  },
  {
   "cell_type": "markdown",
   "metadata": {},
   "source": [
    "# Generationg mass ranges"
   ]
  },
  {
   "cell_type": "code",
   "execution_count": 163,
   "metadata": {
    "collapsed": false
   },
   "outputs": [
    {
     "name": "stdout",
     "output_type": "stream",
     "text": [
      "485165195.41 1.17191423728e+16 32690173.7247\n"
     ]
    },
    {
     "data": {
      "text/plain": [
       "(10, 10)"
      ]
     },
     "execution_count": 163,
     "metadata": {},
     "output_type": "execute_result"
    }
   ],
   "source": [
    "M_1 = linspace(20, 37, 10)\n",
    "M = exp(M_1)\n",
    "z = ones(10)\n",
    "print min(M), max(M), exp(15)*10\n",
    "len(z), len(M)"
   ]
  },
  {
   "cell_type": "markdown",
   "metadata": {},
   "source": [
    "# writting input data of rvir code"
   ]
  },
  {
   "cell_type": "code",
   "execution_count": 164,
   "metadata": {
    "collapsed": false
   },
   "outputs": [],
   "source": [
    "f = open(\"rvir_in.dat\", 'w')\n",
    "for i in range(len(M)):\n",
    "    f.write((\"%f \\t %f\\n\") %(M[i], z[i]))\n",
    "f.close()\n",
    "#rvir = np.zeros([100])"
   ]
  },
  {
   "cell_type": "markdown",
   "metadata": {},
   "source": [
    "# running rvir code"
   ]
  },
  {
   "cell_type": "code",
   "execution_count": null,
   "metadata": {
    "collapsed": true
   },
   "outputs": [],
   "source": [
    "!./rvirmod/a.out 10 > rvir_outiii.dat"
   ]
  },
  {
   "cell_type": "markdown",
   "metadata": {},
   "source": [
    "## This data come from code/rvir"
   ]
  },
  {
   "cell_type": "code",
   "execution_count": 215,
   "metadata": {
    "collapsed": false
   },
   "outputs": [
    {
     "name": "stdout",
     "output_type": "stream",
     "text": [
      "(2.0481308374091747e+20, 5.9201871791581167e+22) 617437.626912 1.36361502394e+37\n"
     ]
    }
   ],
   "source": [
    "data = loadtxt(\"rvir_outiii.dat\")\n",
    "R = data[:,0]*0.7*Kpc # the virial radius is in Kpc*h\n",
    "print (min(R), max(R)), min(M)**(2/3.), a_prime"
   ]
  },
  {
   "cell_type": "code",
   "execution_count": 223,
   "metadata": {
    "collapsed": false
   },
   "outputs": [
    {
     "data": {
      "text/plain": [
       "array([ 200.71021517,  200.71216004,  200.71500719,  200.71774638,\n",
       "        200.72036502,  200.72264379,  200.7249577 ,  200.72809614,\n",
       "        200.73003547,  200.73269789])"
      ]
     },
     "execution_count": 223,
     "metadata": {},
     "output_type": "execute_result"
    }
   ],
   "source": [
    "a_prime*M**(2/3.)/(R)**2"
   ]
  },
  {
   "cell_type": "markdown",
   "metadata": {},
   "source": [
    "# computing C_1 and r_c "
   ]
  },
  {
   "cell_type": "code",
   "execution_count": 219,
   "metadata": {
    "collapsed": false
   },
   "outputs": [
    {
     "name": "stdout",
     "output_type": "stream",
     "text": [
      "485165195.41 1.17191423728e+16\n",
      "2.04813083741e+20 5.92018717916e+22\n",
      "0.0707579783199 0.070761961058\n",
      "-1.1502001398\n"
     ]
    },
    {
     "name": "stderr",
     "output_type": "stream",
     "text": [
      "/usr/local/lib/python2.7/dist-packages/IPython/kernel/__main__.py:5: RuntimeWarning: invalid value encountered in sqrt\n"
     ]
    }
   ],
   "source": [
    "#checking numbers\n",
    "C_1 = c(M, a_prime, R)\n",
    "r_C = r_c(1, M, R)\n",
    "print min(M), max(M)\n",
    "print min(R), max(R)\n",
    "print min(C_1), max(C_1)\n",
    "#print C_min, C_max, C\n",
    "print log10(max(C_1))"
   ]
  },
  {
   "cell_type": "code",
   "execution_count": 232,
   "metadata": {
    "collapsed": false
   },
   "outputs": [
    {
     "data": {
      "image/png": "[encoded data removed]",
      "text/plain": [
       "<matplotlib.figure.Figure at 0x7f8141a8fed0>"
      ]
     },
     "metadata": {},
     "output_type": "display_data"
    }
   ],
   "source": [
    "plot(log10(M), log10(C_1), alpha=0.7, c='k')\n",
    "xlabel(r\"$\\mathrm{Log(M_{\\odot})}$\", fontsize=25)\n",
    "ylabel(r\"$\\mathrm{Log(c)}$\", fontsize=25)\n",
    "gca().get_yaxis().get_major_formatter().set_powerlimits((0, 0))\n",
    "savefig(\"c_vs_m.png\", bbox_inches='tight')\n"
   ]
  }
 ],
 "metadata": {
  "kernelspec": {
   "display_name": "Python 2",
   "language": "python",
   "name": "python2"
  },
  "language_info": {
   "codemirror_mode": {
    "name": "ipython",
    "version": 2
   },
   "file_extension": ".py",
   "mimetype": "text/x-python",
   "name": "python",
   "nbconvert_exporter": "python",
   "pygments_lexer": "ipython2",
   "version": "2.7.6"
  }
 },
 "nbformat": 4,
 "nbformat_minor": 0
}
